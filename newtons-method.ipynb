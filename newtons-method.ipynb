{
 "cells": [
  {
   "cell_type": "code",
   "execution_count": 5,
   "metadata": {},
   "outputs": [],
   "source": [
    "import pandas as pd\n",
    "import numpy as np\n",
    "from sklearn.model_selection import ShuffleSplit\n",
    "\n",
    "def sigmoid(w, x):\n",
    "    z = np.dot(x, w)\n",
    "    return (1.0 / (1 + np.exp(-z)))\n",
    "\n",
    "def cross_entropy_loss(y, yhat):\n",
    "    return -np.sum(y * np.log(yhat) \n",
    "                   + (1 - y) * np.log(1 - yhat))\n",
    "\n",
    "def gradient(x, y, yhat):\n",
    "    return -np.dot(x.T, y - yhat)\n",
    "\n",
    "def hessian(x, yhat):\n",
    "    return np.dot((yhat * (1 - yhat) * x).T, x)\n",
    "\n",
    "def newtons_method(X_train, y_train):\n",
    "    w = np.zeros((n_features + 1, 1))\n",
    "\n",
    "    yhat_train = sigmoid(w, X_train)\n",
    "    error = np.Infinity\n",
    "    delta = np.Infinity\n",
    "    convergence = 1e-12\n",
    "\n",
    "    while abs(delta) > convergence:\n",
    "        yhat_train = sigmoid(w, X_train)\n",
    "        g = gradient(X_train, y_train, yhat_train)\n",
    "        h = hessian(X_train, yhat_train)\n",
    "\n",
    "        w -= np.dot(np.linalg.inv(h), g)\n",
    "\n",
    "        error_new = cross_entropy_loss(y_train, yhat_train)\n",
    "        delta = error - error_new\n",
    "        error = error_new\n",
    "        \n",
    "    return w\n",
    "        \n",
    "def accuracy(y, yhat):\n",
    "    yhat = yhat > 0.5 # classify\n",
    "    return np.sum(y == yhat) / len(yhat)"
   ]
  },
  {
   "cell_type": "code",
   "execution_count": 4,
   "metadata": {},
   "outputs": [
    {
     "name": "stdout",
     "output_type": "stream",
     "text": [
      "Accuracy: 0.9643\n",
      "Wall time: 64 ms\n"
     ]
    }
   ],
   "source": [
    "%%time\n",
    "\n",
    "names = ['id', 'f1', 'f2', 'f3', 'f4', 'f5', 'f6', 'f7', 'f8', 'f9', 'malignancy']\n",
    "df = pd.read_csv('breast-cancer-wisconsin.data.txt', names=names)\n",
    "df['bias'] = 1 # dummy variable for bias \n",
    "\n",
    "y = df['malignancy']  \n",
    "malignant, not_malignant = True, False\n",
    "y = y.replace(4, malignant) \n",
    "y = y.replace(2, not_malignant)\n",
    "y = y.values.reshape(len(y), 1)\n",
    "\n",
    "n_features = len(names) - 2 # exclude id and gold standard\n",
    "cols = df.columns.tolist()\n",
    "X = df[cols[-1:] + cols[1:-2]] # bias and feature columns\n",
    "X = X.replace('?', np.NaN) \n",
    "X = X.astype(float)\n",
    "X = X.fillna(X.mean())\n",
    "X = X.values\n",
    "\n",
    "accuracies = []\n",
    "ss = ShuffleSplit(n_splits=10, test_size=0.2, random_state=0)\n",
    "for train, test in ss.split(X):\n",
    "    X_train, X_test = X[train], X[test]\n",
    "    y_train, y_test = y[train], y[test]\n",
    "\n",
    "    w = newtons_method(X_train, y_train)\n",
    "    \n",
    "    yhat_test = sigmoid(w, X_test)\n",
    "    accuracies.append(accuracy(y_test, yhat_test))\n",
    "\n",
    "print('Accuracy: %.4f' % np.mean(np.array(accuracies)))"
   ]
  }
 ],
 "metadata": {
  "kernelspec": {
   "display_name": "Python 3",
   "language": "python",
   "name": "python3"
  },
  "language_info": {
   "codemirror_mode": {
    "name": "ipython",
    "version": 3
   },
   "file_extension": ".py",
   "mimetype": "text/x-python",
   "name": "python",
   "nbconvert_exporter": "python",
   "pygments_lexer": "ipython3",
   "version": "3.7.1"
  }
 },
 "nbformat": 4,
 "nbformat_minor": 2
}
